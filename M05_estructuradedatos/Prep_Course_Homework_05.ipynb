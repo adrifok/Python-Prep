{
 "cells": [
  {
   "attachments": {},
   "cell_type": "markdown",
   "metadata": {},
   "source": [
    "## Estructuras de Datos"
   ]
  },
  {
   "attachments": {},
   "cell_type": "markdown",
   "metadata": {},
   "source": [
    "1) Crear una lista que contenga nombres de ciudades del mundo que contenga más de 5 elementos e imprimir por pantalla"
   ]
  },
  {
   "cell_type": "code",
   "execution_count": 11,
   "metadata": {},
   "outputs": [
    {
     "name": "stdout",
     "output_type": "stream",
     "text": [
      "['Nueva York', 'Los Ángeles', 'Chicago', 'Miami', 'San Francisco', 'Boston']\n"
     ]
    }
   ],
   "source": [
    "lista_cities = [\"Nueva York\", \"Los Ángeles\", \"Chicago\", \"Miami\", \"San Francisco\", \"Boston\"]\n",
    "\n",
    "print(lista_cities)"
   ]
  },
  {
   "attachments": {},
   "cell_type": "markdown",
   "metadata": {},
   "source": [
    "2) Imprimir por pantalla el segundo elemento de la lista"
   ]
  },
  {
   "cell_type": "code",
   "execution_count": 2,
   "metadata": {},
   "outputs": [
    {
     "name": "stdout",
     "output_type": "stream",
     "text": [
      "Los Ángeles\n"
     ]
    }
   ],
   "source": [
    "print(lista_cities[1])"
   ]
  },
  {
   "attachments": {},
   "cell_type": "markdown",
   "metadata": {},
   "source": [
    "3) Imprimir por pantalla del segundo al cuarto elemento"
   ]
  },
  {
   "cell_type": "code",
   "execution_count": 4,
   "metadata": {},
   "outputs": [
    {
     "name": "stdout",
     "output_type": "stream",
     "text": [
      "['Los Ángeles', 'Chicago']\n"
     ]
    }
   ],
   "source": [
    "print(lista_cities[1:3])"
   ]
  },
  {
   "attachments": {},
   "cell_type": "markdown",
   "metadata": {},
   "source": [
    "4) Visualizar el tipo de dato de la lista"
   ]
  },
  {
   "cell_type": "code",
   "execution_count": 16,
   "metadata": {},
   "outputs": [
    {
     "name": "stdout",
     "output_type": "stream",
     "text": [
      "<class 'list'>\n"
     ]
    }
   ],
   "source": [
    "lista_cities = [\"Nueva York\", \"Los Ángeles\", \"Chicago\", \"Miami\", \"San Francisco\", \"Boston\"]\n",
    "tipo = type(lista_cities)\n",
    "print(tipo)"
   ]
  },
  {
   "attachments": {},
   "cell_type": "markdown",
   "metadata": {},
   "source": [
    "5) Visualizar todos los elementos de la lista a partir del tercero de manera genérica, es decir, sin explicitar la posición del último elemento"
   ]
  },
  {
   "cell_type": "code",
   "execution_count": 18,
   "metadata": {},
   "outputs": [
    {
     "name": "stdout",
     "output_type": "stream",
     "text": [
      "['Nueva York', 'Los Ángeles']\n"
     ]
    }
   ],
   "source": [
    "print(lista_cities[:2])"
   ]
  },
  {
   "attachments": {},
   "cell_type": "markdown",
   "metadata": {},
   "source": [
    "6) Visualizar los primeros 4 elementos de la lista"
   ]
  },
  {
   "cell_type": "code",
   "execution_count": 20,
   "metadata": {},
   "outputs": [
    {
     "name": "stdout",
     "output_type": "stream",
     "text": [
      "['Nueva York', 'Los Ángeles', 'Chicago', 'Miami']\n"
     ]
    }
   ],
   "source": [
    "print(lista_cities[:4])"
   ]
  },
  {
   "attachments": {},
   "cell_type": "markdown",
   "metadata": {},
   "source": [
    "7) Agregar una ciudad más a la lista que ya exista y otra que no ¿Arroja algún tipo de error?"
   ]
  },
  {
   "cell_type": "code",
   "execution_count": 27,
   "metadata": {},
   "outputs": [
    {
     "name": "stdout",
     "output_type": "stream",
     "text": [
      "['Nueva York', 'Los Ángeles', 'Chicago', 'Miami', 'San Francisco', 'Boston', 'Dallas', 'Dallas', 'Austin', 'Austin', 'Austin', 'Austin', 'Austin', 'Miami']\n"
     ]
    }
   ],
   "source": [
    "lista_cities.append(\"Austin\")\n",
    "lista_cities.append(\"Miami\")\n",
    "print(lista_cities)"
   ]
  },
  {
   "cell_type": "code",
   "execution_count": 28,
   "metadata": {},
   "outputs": [
    {
     "name": "stdout",
     "output_type": "stream",
     "text": [
      "['Nueva York', 'Los Ángeles', 'Chicago', 'Denver', 'Miami', 'San Francisco', 'Boston', 'Dallas', 'Dallas', 'Austin', 'Austin', 'Austin', 'Austin', 'Austin', 'Miami']\n"
     ]
    }
   ],
   "source": [
    "lista_cities.insert(3, \"Denver\")\n",
    "print(lista_cities)"
   ]
  },
  {
   "attachments": {},
   "cell_type": "markdown",
   "metadata": {},
   "source": [
    "9) Concatenar otra lista a la ya creada"
   ]
  },
  {
   "cell_type": "code",
   "execution_count": 31,
   "metadata": {},
   "outputs": [
    {
     "name": "stdout",
     "output_type": "stream",
     "text": [
      "['Baires', 'Bogota', 'Santiago', 'Lima']\n",
      "['Nueva York', 'Los Ángeles', 'Chicago', 'Denver', 'Miami', 'San Francisco', 'Boston', 'Dallas', 'Dallas', 'Austin', 'Austin', 'Austin', 'Austin', 'Austin', 'Miami', 'Baires', 'Bogota', 'Santiago', 'Lima']\n"
     ]
    }
   ],
   "source": [
    "lista_ciudades = [\"Baires\", \"Bogota\", \"Santiago\", \"Lima\"]\n",
    "print(lista_ciudades)\n",
    "lista_cities.extend(lista_ciudades)\n",
    "print(lista_cities)"
   ]
  },
  {
   "attachments": {},
   "cell_type": "markdown",
   "metadata": {},
   "source": [
    "10) Encontrar el índice de la ciudad que en el punto 7 agregamos duplicada. ¿Se nota alguna particularidad?"
   ]
  },
  {
   "cell_type": "code",
   "execution_count": 34,
   "metadata": {},
   "outputs": [
    {
     "name": "stdout",
     "output_type": "stream",
     "text": [
      "4\n"
     ]
    }
   ],
   "source": [
    "lista_cities.index(\"Miami\")"
   ]
  },
  {
   "attachments": {},
   "cell_type": "markdown",
   "metadata": {},
   "source": [
    "11) ¿Qué pasa si se busca un elemento que no existe?"
   ]
  },
  {
   "cell_type": "code",
   "execution_count": 36,
   "metadata": {},
   "outputs": [
    {
     "ename": "ValueError",
     "evalue": "'Reno' is not in list",
     "output_type": "error",
     "traceback": [
      "\u001b[1;31m---------------------------------------------------------------------------\u001b[0m",
      "\u001b[1;31mValueError\u001b[0m                                Traceback (most recent call last)",
      "Cell \u001b[1;32mIn[36], line 1\u001b[0m\n\u001b[1;32m----> 1\u001b[0m \u001b[39mprint\u001b[39m(lista_cities\u001b[39m.\u001b[39;49mindex(\u001b[39m\"\u001b[39;49m\u001b[39mReno\u001b[39;49m\u001b[39m\"\u001b[39;49m))\n",
      "\u001b[1;31mValueError\u001b[0m: 'Reno' is not in list"
     ]
    }
   ],
   "source": [
    "print(lista_cities.index(\"Reno\"))"
   ]
  },
  {
   "attachments": {},
   "cell_type": "markdown",
   "metadata": {},
   "source": [
    "12) Eliminar un elemento de la lista"
   ]
  },
  {
   "cell_type": "code",
   "execution_count": 40,
   "metadata": {},
   "outputs": [
    {
     "name": "stdout",
     "output_type": "stream",
     "text": [
      "['Los Ángeles', 'Denver', 'Miami', 'San Francisco', 'Boston', 'Dallas', 'Dallas', 'Austin', 'Austin', 'Austin', 'Austin', 'Austin', 'Miami', 'Baires', 'Bogota', 'Santiago', 'Lima']\n"
     ]
    }
   ],
   "source": [
    "lista_cities.remove(\"Nueva York\")\n",
    "print(lista_cities)"
   ]
  },
  {
   "attachments": {},
   "cell_type": "markdown",
   "metadata": {},
   "source": [
    "13) ¿Qué pasa si el elemento a eliminar no existe?"
   ]
  },
  {
   "cell_type": "code",
   "execution_count": 41,
   "metadata": {},
   "outputs": [
    {
     "ename": "ValueError",
     "evalue": "list.remove(x): x not in list",
     "output_type": "error",
     "traceback": [
      "\u001b[1;31m---------------------------------------------------------------------------\u001b[0m",
      "\u001b[1;31mValueError\u001b[0m                                Traceback (most recent call last)",
      "Cell \u001b[1;32mIn[41], line 1\u001b[0m\n\u001b[1;32m----> 1\u001b[0m lista_cities\u001b[39m.\u001b[39;49mremove(\u001b[39m\"\u001b[39;49m\u001b[39mLas Vegas\u001b[39;49m\u001b[39m\"\u001b[39;49m)\n\u001b[0;32m      2\u001b[0m \u001b[39mprint\u001b[39m(lista_cities)\n",
      "\u001b[1;31mValueError\u001b[0m: list.remove(x): x not in list"
     ]
    }
   ],
   "source": [
    "lista_cities.remove(\"Las Vegas\")\n",
    "print(lista_cities)"
   ]
  },
  {
   "attachments": {},
   "cell_type": "markdown",
   "metadata": {},
   "source": [
    "14) Extraer el úlimo elemento de la lista, guardarlo en una variable e imprimirlo"
   ]
  },
  {
   "cell_type": "code",
   "execution_count": 47,
   "metadata": {},
   "outputs": [
    {
     "name": "stdout",
     "output_type": "stream",
     "text": [
      "<built-in method pop of list object at 0x000001F882ECC980>\n"
     ]
    }
   ],
   "source": [
    "ultima_ciudad = lista_cities.pop\n",
    "print(ultima_ciudad)"
   ]
  },
  {
   "attachments": {},
   "cell_type": "markdown",
   "metadata": {},
   "source": [
    "15) Mostrar la lista multiplicada por 4"
   ]
  },
  {
   "cell_type": "code",
   "execution_count": 48,
   "metadata": {},
   "outputs": [
    {
     "name": "stdout",
     "output_type": "stream",
     "text": [
      "['Los Ángeles', 'Denver', 'Miami', 'San Francisco', 'Boston', 'Dallas', 'Dallas', 'Austin', 'Austin', 'Austin', 'Austin', 'Austin', 'Miami', 'Baires', 'Bogota', 'Santiago', 'Lima', 'Los Ángeles', 'Denver', 'Miami', 'San Francisco', 'Boston', 'Dallas', 'Dallas', 'Austin', 'Austin', 'Austin', 'Austin', 'Austin', 'Miami', 'Baires', 'Bogota', 'Santiago', 'Lima', 'Los Ángeles', 'Denver', 'Miami', 'San Francisco', 'Boston', 'Dallas', 'Dallas', 'Austin', 'Austin', 'Austin', 'Austin', 'Austin', 'Miami', 'Baires', 'Bogota', 'Santiago', 'Lima', 'Los Ángeles', 'Denver', 'Miami', 'San Francisco', 'Boston', 'Dallas', 'Dallas', 'Austin', 'Austin', 'Austin', 'Austin', 'Austin', 'Miami', 'Baires', 'Bogota', 'Santiago', 'Lima']\n"
     ]
    }
   ],
   "source": [
    "print(lista_cities * 4)"
   ]
  },
  {
   "attachments": {},
   "cell_type": "markdown",
   "metadata": {},
   "source": [
    "16) Crear una tupla que contenga los números enteros del 1 al 20"
   ]
  },
  {
   "cell_type": "code",
   "execution_count": 49,
   "metadata": {},
   "outputs": [
    {
     "name": "stdout",
     "output_type": "stream",
     "text": [
      "(1, 2, 3, 4, 5, 6, 7, 8, 9, 10, 11, 12, 13, 14, 15, 16, 17, 18, 19, 20)\n"
     ]
    }
   ],
   "source": [
    "tupla = (1,2,3,4,5,6,7,8,9,10,11,12,13,14,15,16,17,18,19,20)\n",
    "print(tupla)"
   ]
  },
  {
   "attachments": {},
   "cell_type": "markdown",
   "metadata": {},
   "source": [
    "17) Imprimir desde el índice 10 al 15 de la tupla"
   ]
  },
  {
   "cell_type": "code",
   "execution_count": 51,
   "metadata": {},
   "outputs": [
    {
     "name": "stdout",
     "output_type": "stream",
     "text": [
      "(10, 11, 12, 13, 14)\n"
     ]
    }
   ],
   "source": [
    "print(tupla[9:14])"
   ]
  },
  {
   "attachments": {},
   "cell_type": "markdown",
   "metadata": {},
   "source": [
    "18) Evaluar si los números 20 y 30 están dentro de la tupla"
   ]
  },
  {
   "cell_type": "code",
   "execution_count": 52,
   "metadata": {},
   "outputs": [
    {
     "name": "stdout",
     "output_type": "stream",
     "text": [
      "True\n",
      "False\n"
     ]
    }
   ],
   "source": [
    "print(20 in tupla)\n",
    "print(30 in tupla)"
   ]
  },
  {
   "attachments": {},
   "cell_type": "markdown",
   "metadata": {},
   "source": [
    "19) Con la lista creada en el punto 1, validar la existencia del elemento 'París' y si no existe, agregarlo. Utilizar una variable e informar lo sucedido."
   ]
  },
  {
   "cell_type": "code",
   "execution_count": 69,
   "metadata": {},
   "outputs": [
    {
     "name": "stdout",
     "output_type": "stream",
     "text": [
      "Se insertó el elemento San Diego\n"
     ]
    }
   ],
   "source": [
    "elemento = \"San Diego\"\n",
    "#for elemento in lista_cities:\n",
    "if(not (elemento in lista_cities)):\n",
    "       lista_cities.append(elemento)\n",
    "       print('Se insertó el elemento', elemento)\n",
    "else:\n",
    "            print(\"Ya existia el elemento \", elemento)"
   ]
  },
  {
   "attachments": {},
   "cell_type": "markdown",
   "metadata": {},
   "source": [
    "20) Mostrar la cantidad de veces que se encuentra un elemento específico dentro de la tupla y de la lista"
   ]
  },
  {
   "cell_type": "code",
   "execution_count": 72,
   "metadata": {},
   "outputs": [
    {
     "name": "stdout",
     "output_type": "stream",
     "text": [
      "2\n",
      "1\n"
     ]
    }
   ],
   "source": [
    "print(lista_cities.count(\"Miami\"))\n",
    "print(tupla.count(10))"
   ]
  },
  {
   "attachments": {},
   "cell_type": "markdown",
   "metadata": {},
   "source": [
    "21) Convertir la tupla en una lista"
   ]
  },
  {
   "cell_type": "code",
   "execution_count": 73,
   "metadata": {},
   "outputs": [
    {
     "name": "stdout",
     "output_type": "stream",
     "text": [
      "['Los Ángeles', 'Denver', 'Miami', 'San Francisco', 'Boston', 'Dallas', 'Dallas', 'Austin', 'Austin', 'Austin', 'Austin', 'Austin', 'Miami', 'Baires', 'Bogota', 'Santiago', 'Lima', 'San Diego']\n"
     ]
    }
   ],
   "source": [
    "tupla = list(lista_cities)\n",
    "print(tupla)"
   ]
  },
  {
   "attachments": {},
   "cell_type": "markdown",
   "metadata": {},
   "source": [
    "22) Desempaquetar solo los primeros 3 elementos de la tupla en 3 variables"
   ]
  },
  {
   "cell_type": "code",
   "execution_count": 78,
   "metadata": {},
   "outputs": [
    {
     "name": "stdout",
     "output_type": "stream",
     "text": [
      "Los Ángeles\n",
      "Denver\n",
      "Miami\n"
     ]
    }
   ],
   "source": [
    "v1, v2, v3, _, _, _, _, _, _, _, _, _, _, _, _, _, _, _, = tupla\n",
    "print(v1)\n",
    "print(v2)\n",
    "print(v3)"
   ]
  },
  {
   "attachments": {},
   "cell_type": "markdown",
   "metadata": {},
   "source": [
    "23) Crear un diccionario utilizando la lista crada en el punto 1, asignandole la clave \"ciudad\". Agregar tambien otras claves, como puede ser \"Pais\" y \"Continente\"."
   ]
  },
  {
   "cell_type": "code",
   "execution_count": 85,
   "metadata": {},
   "outputs": [
    {
     "name": "stdout",
     "output_type": "stream",
     "text": [
      "{'Ciudad': ['Los Ángeles', 'Denver', 'Miami', 'San Francisco', 'Boston', 'Dallas', 'Dallas', 'Austin', 'Austin', 'Austin', 'Austin', 'Austin', 'Miami', 'Baires', 'Bogota', 'Santiago', 'Lima', 'San Diego'], 'Paises': ['Brasil', 'Paraguay', 'Ecuador', 'Uruguay', 'Chile', 'Peru'], 'Continentes': ['America', 'Asia', 'Africa']}\n"
     ]
    }
   ],
   "source": [
    "diccionario = {\"Ciudad\" : lista_cities, \"Paises\" : [ 'Brasil','Paraguay','Ecuador','Uruguay','Chile','Peru'], \"Continentes\" : [\"America\", \"Asia\", \"Africa\"]}\n",
    "print(diccionario)"
   ]
  },
  {
   "attachments": {},
   "cell_type": "markdown",
   "metadata": {},
   "source": [
    "24) Imprimir las claves del diccionario"
   ]
  },
  {
   "cell_type": "code",
   "execution_count": 87,
   "metadata": {},
   "outputs": [
    {
     "name": "stdout",
     "output_type": "stream",
     "text": [
      "dict_keys(['Ciudad', 'Paises', 'Continentes'])\n"
     ]
    }
   ],
   "source": [
    "print(diccionario.keys())"
   ]
  },
  {
   "attachments": {},
   "cell_type": "markdown",
   "metadata": {},
   "source": [
    "25) Imprimir las ciudades a través de su clave"
   ]
  },
  {
   "cell_type": "code",
   "execution_count": 89,
   "metadata": {},
   "outputs": [
    {
     "name": "stdout",
     "output_type": "stream",
     "text": [
      "['Los Ángeles', 'Denver', 'Miami', 'San Francisco', 'Boston', 'Dallas', 'Dallas', 'Austin', 'Austin', 'Austin', 'Austin', 'Austin', 'Miami', 'Baires', 'Bogota', 'Santiago', 'Lima', 'San Diego']\n"
     ]
    }
   ],
   "source": [
    "print(diccionario[\"Ciudad\"])"
   ]
  }
 ],
 "metadata": {
  "interpreter": {
   "hash": "c85384e4cb51c8b72350f3a8712cc8351fdc3955e32a27f9b60c6242ab125f01"
  },
  "kernelspec": {
   "display_name": "Python 3 (ipykernel)",
   "language": "python",
   "name": "python3"
  },
  "language_info": {
   "codemirror_mode": {
    "name": "ipython",
    "version": 3
   },
   "file_extension": ".py",
   "mimetype": "text/x-python",
   "name": "python",
   "nbconvert_exporter": "python",
   "pygments_lexer": "ipython3",
   "version": "3.11.4"
  }
 },
 "nbformat": 4,
 "nbformat_minor": 4
}
