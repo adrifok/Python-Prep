{
 "cells": [
  {
   "attachments": {},
   "cell_type": "markdown",
   "metadata": {},
   "source": [
    "## Flujos de Control"
   ]
  },
  {
   "attachments": {},
   "cell_type": "markdown",
   "metadata": {},
   "source": [
    "1) Crear una variable que contenga un elemento del conjunto de números enteros y luego imprimir por pantalla si es mayor o menor a cero"
   ]
  },
  {
   "cell_type": "code",
   "execution_count": 5,
   "metadata": {},
   "outputs": [
    {
     "name": "stdout",
     "output_type": "stream",
     "text": [
      "El numero es mayor a cero\n"
     ]
    }
   ],
   "source": [
    "num = 5\n",
    "if (num > 0): \n",
    "    print (\"El numero es mayor a cero\")\n",
    "elif (num < 0):\n",
    "    print(\"El numero es menor a cero\")\n",
    "else: (\"El numero es iguala cero\")"
   ]
  },
  {
   "attachments": {},
   "cell_type": "markdown",
   "metadata": {},
   "source": [
    "2) Crear dos variables y un condicional que informe si son del mismo tipo de dato"
   ]
  },
  {
   "cell_type": "code",
   "execution_count": 6,
   "metadata": {},
   "outputs": [
    {
     "name": "stdout",
     "output_type": "stream",
     "text": [
      "Los tipos de datos son distintos\n"
     ]
    }
   ],
   "source": [
    "num = 8\n",
    "string = \"hola\"\n",
    "if(type (num) == type(string)):\n",
    "    print(\"Los datos son del mismo tipo\")\n",
    "else:\n",
    "    print(\"Los tipos de datos son distintos\")"
   ]
  },
  {
   "attachments": {},
   "cell_type": "markdown",
   "metadata": {},
   "source": [
    "3) Para los valores enteros del 1 al 20, imprimir por pantalla si es par o impar"
   ]
  },
  {
   "cell_type": "code",
   "execution_count": 21,
   "metadata": {},
   "outputs": [
    {
     "name": "stdout",
     "output_type": "stream",
     "text": [
      "El numero  1  es impar\n",
      "El numero  2  es impar\n",
      "El numero  3  es impar\n",
      "El numero  4  es impar\n",
      "El numero  5  es impar\n",
      "El numero  6  es impar\n",
      "El numero  7  es impar\n",
      "El numero  8  es impar\n",
      "El numero  9  es impar\n",
      "El numero  10  es impar\n",
      "El numero  11  es impar\n",
      "El numero  12  es impar\n",
      "El numero  13  es impar\n",
      "El numero  14  es impar\n",
      "El numero  15  es impar\n",
      "El numero  16  es impar\n",
      "El numero  17  es impar\n",
      "El numero  18  es impar\n",
      "El numero  19  es impar\n",
      "El numero  20  es impar\n"
     ]
    }
   ],
   "source": [
    "for i in range(1,21):\n",
    "    if i%2 ==0:\n",
    "        print(\"El numero \", str(i), \" es impar\")\n",
    "    else:\n",
    "        print(\"El numero \", str(i), \" es impar\")\n"
   ]
  },
  {
   "attachments": {},
   "cell_type": "markdown",
   "metadata": {},
   "source": [
    "4) En un ciclo for mostrar para los valores entre 0 y 5 el resultado de elevarlo a la potencia igual a 3"
   ]
  },
  {
   "cell_type": "code",
   "execution_count": 31,
   "metadata": {},
   "outputs": [
    {
     "name": "stdout",
     "output_type": "stream",
     "text": [
      "0  potencia de 3 = 0\n",
      "1  potencia de 3 = 1\n",
      "2  potencia de 3 = 8\n",
      "3  potencia de 3 = 27\n",
      "4  potencia de 3 = 64\n",
      "5  potencia de 3 = 125\n"
     ]
    }
   ],
   "source": [
    "for i in range(0,6):\n",
    "    \n",
    "        print(str(i), \" potencia de 3 =\", str(i**3))"
   ]
  },
  {
   "attachments": {},
   "cell_type": "markdown",
   "metadata": {},
   "source": [
    "5) Crear una variable que contenga un número entero y realizar un ciclo for la misma cantidad de ciclos"
   ]
  },
  {
   "cell_type": "code",
   "execution_count": 46,
   "metadata": {},
   "outputs": [
    {
     "name": "stdout",
     "output_type": "stream",
     "text": [
      "0\n",
      "1\n",
      "2\n",
      "3\n",
      "4\n",
      "5\n",
      "6\n",
      "7\n"
     ]
    }
   ],
   "source": [
    "num = 8\n",
    "for i in range (0,num):\n",
    "    pass\n",
    "    print(i)\n"
   ]
  },
  {
   "attachments": {},
   "cell_type": "markdown",
   "metadata": {},
   "source": [
    "6) Utilizar un ciclo while para realizar el factorial de un número guardado en una variable, sólo si la variable contiene un número entero mayor a 0"
   ]
  },
  {
   "cell_type": "code",
   "execution_count": 70,
   "metadata": {},
   "outputs": [
    {
     "name": "stdout",
     "output_type": "stream",
     "text": [
      "El factorial de  2 es 24\n"
     ]
    }
   ],
   "source": [
    "num = 4\n",
    "factorial = num\n",
    "while(num  > 2):\n",
    "    num = num -1\n",
    "    factorial *= num\n",
    "     \n",
    "\n",
    "print(\"El factorial de \", num, \"es\", factorial)"
   ]
  },
  {
   "attachments": {},
   "cell_type": "markdown",
   "metadata": {},
   "source": [
    "7) Crear un ciclo for dentro de un ciclo while"
   ]
  },
  {
   "cell_type": "code",
   "execution_count": null,
   "metadata": {},
   "outputs": [],
   "source": []
  },
  {
   "attachments": {},
   "cell_type": "markdown",
   "metadata": {},
   "source": [
    "8) Crear un ciclo while dentro de un ciclo for"
   ]
  },
  {
   "cell_type": "code",
   "execution_count": 73,
   "metadata": {},
   "outputs": [
    {
     "name": "stdout",
     "output_type": "stream",
     "text": [
      "1\n",
      "1\n",
      "1\n",
      "1\n",
      "1\n",
      "1\n",
      "1\n",
      "1\n"
     ]
    }
   ],
   "source": [
    "i = 1\n",
    "        \n",
    "for i in range(1,10):    \n",
    " while (i > 1):\n",
    "  i =+1\n",
    "  print(i)\n",
    "    "
   ]
  },
  {
   "attachments": {},
   "cell_type": "markdown",
   "metadata": {},
   "source": [
    "9) Imprimir los números primos existentes entre 0 y 30"
   ]
  },
  {
   "cell_type": "code",
   "execution_count": 24,
   "metadata": {},
   "outputs": [
    {
     "name": "stdout",
     "output_type": "stream",
     "text": [
      "2\n",
      "3\n",
      "5\n",
      "7\n",
      "11\n",
      "13\n"
     ]
    }
   ],
   "source": [
    "\n",
    "tope = 15\n",
    "n=2\n",
    "while n <= tope:\n",
    "   es_primo = True\n",
    "   for i in range(2, int(n ** 0.5) + 1):\n",
    "      if n % i == 0 or n % (i + 2) == 0: \n",
    "         es_primo = False\n",
    "         \n",
    "   if es_primo : \n",
    "    print(n)    \n",
    "   n += 1"
   ]
  },
  {
   "attachments": {},
   "cell_type": "markdown",
   "metadata": {},
   "source": [
    "10) ¿Se puede mejorar el proceso del punto 9? Utilizar las sentencias break y/ó continue para tal fin"
   ]
  },
  {
   "cell_type": "code",
   "execution_count": 25,
   "metadata": {},
   "outputs": [
    {
     "name": "stdout",
     "output_type": "stream",
     "text": [
      "2\n",
      "3\n",
      "5\n",
      "7\n",
      "11\n",
      "13\n"
     ]
    }
   ],
   "source": [
    "tope = 15\n",
    "n=2\n",
    "while n <= tope:\n",
    "   es_primo = True\n",
    "   for i in range(2, int(n ** 0.5) + 1):\n",
    "      if n % i == 0 or n % (i + 2) == 0: \n",
    "         es_primo = False\n",
    "         break\n",
    "   if es_primo : \n",
    "    print(n)    \n",
    "   n += 1"
   ]
  },
  {
   "attachments": {},
   "cell_type": "markdown",
   "metadata": {},
   "source": [
    "11) En los puntos 9 y 10, se diseño un código que encuentra números primos y además se lo optimizó. ¿Es posible saber en qué medida se optimizó?"
   ]
  },
  {
   "cell_type": "code",
   "execution_count": null,
   "metadata": {},
   "outputs": [],
   "source": []
  },
  {
   "attachments": {},
   "cell_type": "markdown",
   "metadata": {},
   "source": [
    "12) Aplicando continue, armar un ciclo while que solo imprima los valores divisibles por 12, dentro del rango de números de 100 a 300"
   ]
  },
  {
   "cell_type": "code",
   "execution_count": 39,
   "metadata": {},
   "outputs": [
    {
     "name": "stdout",
     "output_type": "stream",
     "text": [
      "101 Es divisible por 12 \n",
      "102 Es divisible por 12 \n",
      "103 Es divisible por 12 \n",
      "104 Es divisible por 12 \n",
      "105 Es divisible por 12 \n",
      "106 Es divisible por 12 \n",
      "107 Es divisible por 12 \n",
      "109 Es divisible por 12 \n",
      "110 Es divisible por 12 \n",
      "111 Es divisible por 12 \n",
      "112 Es divisible por 12 \n",
      "113 Es divisible por 12 \n",
      "114 Es divisible por 12 \n",
      "115 Es divisible por 12 \n",
      "116 Es divisible por 12 \n",
      "117 Es divisible por 12 \n",
      "118 Es divisible por 12 \n",
      "119 Es divisible por 12 \n",
      "121 Es divisible por 12 \n",
      "122 Es divisible por 12 \n",
      "123 Es divisible por 12 \n",
      "124 Es divisible por 12 \n",
      "125 Es divisible por 12 \n",
      "126 Es divisible por 12 \n",
      "127 Es divisible por 12 \n",
      "128 Es divisible por 12 \n",
      "129 Es divisible por 12 \n",
      "130 Es divisible por 12 \n",
      "131 Es divisible por 12 \n",
      "133 Es divisible por 12 \n",
      "134 Es divisible por 12 \n",
      "135 Es divisible por 12 \n",
      "136 Es divisible por 12 \n",
      "137 Es divisible por 12 \n",
      "138 Es divisible por 12 \n",
      "139 Es divisible por 12 \n",
      "140 Es divisible por 12 \n",
      "141 Es divisible por 12 \n",
      "142 Es divisible por 12 \n",
      "143 Es divisible por 12 \n",
      "145 Es divisible por 12 \n",
      "146 Es divisible por 12 \n",
      "147 Es divisible por 12 \n",
      "148 Es divisible por 12 \n",
      "149 Es divisible por 12 \n",
      "150 Es divisible por 12 \n",
      "151 Es divisible por 12 \n",
      "152 Es divisible por 12 \n",
      "153 Es divisible por 12 \n",
      "154 Es divisible por 12 \n",
      "155 Es divisible por 12 \n",
      "157 Es divisible por 12 \n",
      "158 Es divisible por 12 \n",
      "159 Es divisible por 12 \n",
      "160 Es divisible por 12 \n",
      "161 Es divisible por 12 \n",
      "162 Es divisible por 12 \n",
      "163 Es divisible por 12 \n",
      "164 Es divisible por 12 \n",
      "165 Es divisible por 12 \n",
      "166 Es divisible por 12 \n",
      "167 Es divisible por 12 \n",
      "169 Es divisible por 12 \n",
      "170 Es divisible por 12 \n",
      "171 Es divisible por 12 \n",
      "172 Es divisible por 12 \n",
      "173 Es divisible por 12 \n",
      "174 Es divisible por 12 \n",
      "175 Es divisible por 12 \n",
      "176 Es divisible por 12 \n",
      "177 Es divisible por 12 \n",
      "178 Es divisible por 12 \n",
      "179 Es divisible por 12 \n",
      "181 Es divisible por 12 \n",
      "182 Es divisible por 12 \n",
      "183 Es divisible por 12 \n",
      "184 Es divisible por 12 \n",
      "185 Es divisible por 12 \n",
      "186 Es divisible por 12 \n",
      "187 Es divisible por 12 \n",
      "188 Es divisible por 12 \n",
      "189 Es divisible por 12 \n",
      "190 Es divisible por 12 \n",
      "191 Es divisible por 12 \n",
      "193 Es divisible por 12 \n",
      "194 Es divisible por 12 \n",
      "195 Es divisible por 12 \n",
      "196 Es divisible por 12 \n",
      "197 Es divisible por 12 \n",
      "198 Es divisible por 12 \n",
      "199 Es divisible por 12 \n",
      "200 Es divisible por 12 \n",
      "201 Es divisible por 12 \n",
      "202 Es divisible por 12 \n",
      "203 Es divisible por 12 \n",
      "205 Es divisible por 12 \n",
      "206 Es divisible por 12 \n",
      "207 Es divisible por 12 \n",
      "208 Es divisible por 12 \n",
      "209 Es divisible por 12 \n",
      "210 Es divisible por 12 \n",
      "211 Es divisible por 12 \n",
      "212 Es divisible por 12 \n",
      "213 Es divisible por 12 \n",
      "214 Es divisible por 12 \n",
      "215 Es divisible por 12 \n",
      "217 Es divisible por 12 \n",
      "218 Es divisible por 12 \n",
      "219 Es divisible por 12 \n",
      "220 Es divisible por 12 \n",
      "221 Es divisible por 12 \n",
      "222 Es divisible por 12 \n",
      "223 Es divisible por 12 \n",
      "224 Es divisible por 12 \n",
      "225 Es divisible por 12 \n",
      "226 Es divisible por 12 \n",
      "227 Es divisible por 12 \n",
      "229 Es divisible por 12 \n",
      "230 Es divisible por 12 \n",
      "231 Es divisible por 12 \n",
      "232 Es divisible por 12 \n",
      "233 Es divisible por 12 \n",
      "234 Es divisible por 12 \n",
      "235 Es divisible por 12 \n",
      "236 Es divisible por 12 \n",
      "237 Es divisible por 12 \n",
      "238 Es divisible por 12 \n",
      "239 Es divisible por 12 \n",
      "241 Es divisible por 12 \n",
      "242 Es divisible por 12 \n",
      "243 Es divisible por 12 \n",
      "244 Es divisible por 12 \n",
      "245 Es divisible por 12 \n",
      "246 Es divisible por 12 \n",
      "247 Es divisible por 12 \n",
      "248 Es divisible por 12 \n",
      "249 Es divisible por 12 \n",
      "250 Es divisible por 12 \n",
      "251 Es divisible por 12 \n",
      "253 Es divisible por 12 \n",
      "254 Es divisible por 12 \n",
      "255 Es divisible por 12 \n",
      "256 Es divisible por 12 \n",
      "257 Es divisible por 12 \n",
      "258 Es divisible por 12 \n",
      "259 Es divisible por 12 \n",
      "260 Es divisible por 12 \n",
      "261 Es divisible por 12 \n",
      "262 Es divisible por 12 \n",
      "263 Es divisible por 12 \n",
      "265 Es divisible por 12 \n",
      "266 Es divisible por 12 \n",
      "267 Es divisible por 12 \n",
      "268 Es divisible por 12 \n",
      "269 Es divisible por 12 \n",
      "270 Es divisible por 12 \n",
      "271 Es divisible por 12 \n",
      "272 Es divisible por 12 \n",
      "273 Es divisible por 12 \n",
      "274 Es divisible por 12 \n",
      "275 Es divisible por 12 \n",
      "277 Es divisible por 12 \n",
      "278 Es divisible por 12 \n",
      "279 Es divisible por 12 \n",
      "280 Es divisible por 12 \n",
      "281 Es divisible por 12 \n",
      "282 Es divisible por 12 \n",
      "283 Es divisible por 12 \n",
      "284 Es divisible por 12 \n",
      "285 Es divisible por 12 \n",
      "286 Es divisible por 12 \n",
      "287 Es divisible por 12 \n",
      "289 Es divisible por 12 \n",
      "290 Es divisible por 12 \n",
      "291 Es divisible por 12 \n",
      "292 Es divisible por 12 \n",
      "293 Es divisible por 12 \n",
      "294 Es divisible por 12 \n",
      "295 Es divisible por 12 \n",
      "296 Es divisible por 12 \n",
      "297 Es divisible por 12 \n",
      "298 Es divisible por 12 \n",
      "299 Es divisible por 12 \n",
      "301 Es divisible por 12 \n"
     ]
    }
   ],
   "source": [
    "num = 100\n",
    "while num <= 300: \n",
    "    num += 1\n",
    "    if num % 12 != 0:\n",
    "        print (num, \"Es divisible por 12 \") \n",
    "        continue"
   ]
  },
  {
   "attachments": {},
   "cell_type": "markdown",
   "metadata": {},
   "source": [
    "13) Utilizar la función **input()** que permite hacer ingresos por teclado, para encontrar números primos y dar la opción al usario de buscar el siguiente"
   ]
  },
  {
   "cell_type": "code",
   "execution_count": 41,
   "metadata": {},
   "outputs": [
    {
     "name": "stdout",
     "output_type": "stream",
     "text": [
      "1\n",
      "¿Desea encontrar el siguiente número primo?\n"
     ]
    }
   ],
   "source": [
    "n = 1\n",
    "sigue = 1\n",
    "primo = True\n",
    "while (sigue == 1):\n",
    "    for div in range(2, n):\n",
    "        if (n % div == 0):\n",
    "            primo = False\n",
    "            break\n",
    "    if (primo):\n",
    "        print(n)\n",
    "        print('¿Desea encontrar el siguiente número primo?')\n",
    "        if (input() != '1'):\n",
    "            print('Se finaliza el proceso')\n",
    "            break\n",
    "    else:\n",
    "        primo = True\n",
    "    n += 1"
   ]
  },
  {
   "attachments": {},
   "cell_type": "markdown",
   "metadata": {},
   "source": [
    "14) Crear un ciclo while que encuentre dentro del rango de 100 a 300 el primer número divisible por 3 y además múltiplo de 6"
   ]
  },
  {
   "cell_type": "code",
   "execution_count": 33,
   "metadata": {},
   "outputs": [
    {
     "name": "stdout",
     "output_type": "stream",
     "text": [
      "El numero es:  102\n"
     ]
    }
   ],
   "source": [
    "num = 100\n",
    "while num <= 300: \n",
    "    if num % 6 == 0:\n",
    "        print (\"El numero es: \", num) \n",
    "        break\n",
    "    num += 1"
   ]
  }
 ],
 "metadata": {
  "interpreter": {
   "hash": "c85384e4cb51c8b72350f3a8712cc8351fdc3955e32a27f9b60c6242ab125f01"
  },
  "kernelspec": {
   "display_name": "Python 3 (ipykernel)",
   "language": "python",
   "name": "python3"
  },
  "language_info": {
   "codemirror_mode": {
    "name": "ipython",
    "version": 3
   },
   "file_extension": ".py",
   "mimetype": "text/x-python",
   "name": "python",
   "nbconvert_exporter": "python",
   "pygments_lexer": "ipython3",
   "version": "3.11.4"
  }
 },
 "nbformat": 4,
 "nbformat_minor": 4
}
